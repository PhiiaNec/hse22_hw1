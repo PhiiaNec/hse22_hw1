{
 "cells": [
  {
   "cell_type": "code",
   "execution_count": 1,
   "metadata": {},
   "outputs": [],
   "source": [
    "import re"
   ]
  },
  {
   "cell_type": "code",
   "execution_count": 10,
   "metadata": {},
   "outputs": [],
   "source": [
    "# функция для подсчёта\n",
    "def get_info(f, text, output = True):\n",
    "    lengths = []\n",
    "    total_len = 0\n",
    "    num = 0\n",
    "    max_len = 0\n",
    "    length = 0\n",
    "    score = 0\n",
    "    max_sequence = ''\n",
    "    curr_sequence = ''\n",
    "    for line in f:\n",
    "        if (line[0] == '>'):\n",
    "            if num != 0:\n",
    "                lengths.append(length)\n",
    "            num += 1\n",
    "            if length >= max_len:\n",
    "                max_len = length\n",
    "                max_sequence = curr_sequence\n",
    "            curr_sequence = ''\n",
    "            length = 0\n",
    "        else:\n",
    "            curr_sequence += line.strip()\n",
    "            length += len(line.strip())\n",
    "            total_len += len(line.strip())\n",
    "     \n",
    "    lengths.sort(reverse = True) \n",
    "    for i in lengths:\n",
    "        score += i\n",
    "        if score >= total_len / 2:\n",
    "            if output == True:\n",
    "                print(f'Анализ {text}\\n\\\n",
    "                    Общее количество: {num}\\n\\\n",
    "                    Общая длина: {total_len},\\n\\\n",
    "                    Длина самого длинного: {max_len},\\n\\\n",
    "                    N50: {i}\\n')\n",
    "            break\n",
    "    return max_sequence"
   ]
  },
  {
   "cell_type": "code",
   "execution_count": 12,
   "metadata": {},
   "outputs": [
    {
     "name": "stdout",
     "output_type": "stream",
     "text": [
      "Анализ Контигов\n",
      "                    Общее количество: 622\n",
      "                    Общая длина: 3926209,\n",
      "                    Длина самого длинного: 179307,\n",
      "                    N50: 47797\n",
      "\n"
     ]
    }
   ],
   "source": [
    "# контиги\n",
    "max_cont = get_info(open('Poil_contig.fa', 'r'), 'Контигов')"
   ]
  },
  {
   "cell_type": "code",
   "execution_count": 14,
   "metadata": {},
   "outputs": [
    {
     "name": "stdout",
     "output_type": "stream",
     "text": [
      "Анализ Скаффолдов\n",
      "                    Общее количество: 71\n",
      "                    Общая длина: 3873526,\n",
      "                    Длина самого длинного: 3831914,\n",
      "                    N50: 3831914\n",
      "\n"
     ]
    }
   ],
   "source": [
    "# скаффолды\n",
    "max_scaf = get_info(open('Poil_scaffold.fa', 'r'), 'Скаффолдов')"
   ]
  },
  {
   "cell_type": "code",
   "execution_count": 16,
   "metadata": {},
   "outputs": [
    {
     "name": "stdout",
     "output_type": "stream",
     "text": [
      "Общая длина гэпов: 65\n",
      "Число гэпов: 65\n"
     ]
    }
   ],
   "source": [
    "# гэпы\n",
    "print(f'Общая длина гэпов: {max_scaf.count(\"N\")}')\n",
    "max_scaf = re.sub(r'N{2,}', 'N', max_scaf)\n",
    "print(f'Число гэпов: {max_scaf.count(\"N\")}')"
   ]
  },
  {
   "cell_type": "code",
   "execution_count": 17,
   "metadata": {},
   "outputs": [
    {
     "name": "stdout",
     "output_type": "stream",
     "text": [
      "Общая длина гэпов для обрезанных чтений: 1460\n",
      "Число гэпов для обрезанных чтений: 8\n"
     ]
    }
   ],
   "source": [
    "max_scaf = get_info(open('Poil_gapClosed.fa', 'r'), 'Скаффолдов', False)\n",
    "\n",
    "print(f'Общая длина гэпов для обрезанных чтений: {max_scaf.count(\"N\")}')\n",
    "max_scaf = re.sub(r'N{2,}', 'N', max_scaf)\n",
    "print(f'Число гэпов для обрезанных чтений: {max_scaf.count(\"N\")}')"
   ]
  }
 ],
 "metadata": {
  "kernelspec": {
   "display_name": "Python 3.10.6 64-bit",
   "language": "python",
   "name": "python3"
  },
  "language_info": {
   "codemirror_mode": {
    "name": "ipython",
    "version": 3
   },
   "file_extension": ".py",
   "mimetype": "text/x-python",
   "name": "python",
   "nbconvert_exporter": "python",
   "pygments_lexer": "ipython3",
   "version": "3.10.6"
  },
  "orig_nbformat": 4,
  "vscode": {
   "interpreter": {
    "hash": "e7370f93d1d0cde622a1f8e1c04877d8463912d04d973331ad4851f04de6915a"
   }
  }
 },
 "nbformat": 4,
 "nbformat_minor": 2
}
